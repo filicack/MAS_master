{
 "cells": [
  {
   "cell_type": "markdown",
   "metadata": {
    "id": "YDkoGXVhX2Nv"
   },
   "source": [
    "#**Upravljanje multi-agentnim sustavima**\n",
    "\n",
    "(verzija od 26.svi 2023.)\n",
    "\n",
    "* koristimo Schurovu dekompoziciju za ortogonalni komplement od jezgre od $L$\n",
    "* Plotamo vrijednost $||F_i(s)||$\n",
    "* Koristi se samo sustav dimenzije $n$ (dimenzija Laplaceove matrice grafa) \n",
    "* Uvodimo 4 različite klase grafova na kojima ćemo testirati vrijedsnot $||F_i(s)||$\n"
   ]
  },
  {
   "cell_type": "markdown",
   "metadata": {
    "id": "24svs75lNXa-"
   },
   "source": [
    "##**Raspisano**\n",
    "Računamo vrijednost funkcije $F_i(s)$:\n",
    "\\begin{align*}\n",
    "         F_i(s)  & = \\frac{1}{is\\alpha + \\gamma}VV^T(L-\\mu(s)I)^{-1}e_i \\\\\n",
    "         & = \\left[\\: L = ZTZ^T \\: \\right]\\\\\n",
    "         & = \\frac{1}{is\\alpha + \\gamma}VV^TZ(T-\\mu(s)I)^{-1}Z^*e_i  \\\\\n",
    "         & = \\left[ \\: VV^TZ = VV^T[\\:W \\:\\: V \\:] = V \\left[\\:0 \\: \\: I\\: \\right]  \\right] \\\\\n",
    "         & = \\frac{1}{is\\alpha + \\gamma}\\left[\\:0_{n×k} \\:\\: V \\:\\right](T-\\mu(s)I)^{-1}Z^*e_i\\\\\n",
    "         & = \\left[\\: Z^*e_i = [Z_0 Z_1]^T, \\: \\: Z_0 \\in M_{k,1}, Z_1 \\in M_{n-k,1}\\: \\right]\\\\\n",
    "         & = \\frac{1}{is\\alpha + \\gamma} V (T_{22} - \\mu(s)I)^{-1} Z_1\n",
    "\\end{align*}\n",
    "\n",
    "Za $L$ koristimo Schurovu dekompoziciju za $L= ZTZ^T$, $Z= [\\: W\\:\\: V\\:],$ $ \\: W \\in M_{n,k},$ $ \\: V \\in M_{n,n-k},$ gdje su V stupci od $Z$ koji pripadaju ne-nul elementima i dolazimo do oblika za $\\Phi$ (jer vrijedi $L = L V V^T$):\n",
    "\n",
    "$$\\Phi(s) = \\left(is \\alpha + \\gamma \\right)\\left(\\frac{is\\beta -s^2}{is \\alpha + \\gamma}I +L\\right) = \\\\ =  (is \\alpha + \\gamma)\\left(L - \\mu(s)I\\right),$$\n",
    "gdje je $\\mu(s) =\\frac{is\\beta -s^2}{is \\alpha + \\gamma} $.\n",
    "\n",
    "Za vrijednost u $0$:\n",
    "$$F_i(0) = \\frac{1}{\\gamma}V(V^TLV)^{-1}V^Te_i,$$ iskoristi se Schur za L i def za V pa se dobije\n",
    "$$F_i(0) = \\frac{1}{\\gamma}VT_{22}^{-1}V^Te_i, $$\n",
    "gdje je $$ T = \n",
    "\\begin{bmatrix}\n",
    "  T_{11} & T_{12}\\\\\n",
    "  0 & T_{22}\n",
    "  \\end{bmatrix}.\n",
    "$$ Pritom blok matrica $T_{11} \\in M_{k,k}$ na dijagonali ima $0$, a $T_{22} \\in M_{n-k,n-k}$ ima ne-nul svojstvene vrijednosti.\n",
    "\n",
    "\n"
   ]
  },
  {
   "cell_type": "markdown",
   "metadata": {},
   "source": [
    "## Laplaceova matrica\n",
    "\n",
    "Usmjeren težinski graf je dan kao trojka $\\mathcal{G} = ( \\mathcal{V}, \\mathcal{E}, \\{ \\mathcal{w}_{j,k} \\}_{j,k=1}^{n} )$, gdje je $\\mathcal{V} = \\{v_1,...,v_n\\}$ neprazan skup vrhova, $\\mathcal{E} \\subset \\mathcal{V} \\times \\mathcal{V} $ skup bridova i $\\mathcal{w}_{j,k} \\geq 0 $ su težine bridova. $\\mathcal{w}_{j,k} > 0$  akko $(v_j,v_k) \\in \\mathcal{E}$. Za usmjeren graf je općenito: $\\mathcal{w}_{j,k} \\neq \\mathcal{w}_{k,j}$ \n",
    "\n",
    "Napomena\n",
    "Nije nužno $\\mathcal{w}_{j,k} = \\mathcal{w}_{k,j}$.\n",
    "wjk = wkj for all j, k and wjk > 0\n",
    "iff (vj, vk) \u0014 E. When the edge (vi, vj ), i \u0013= j, belongs to E,\n",
    "it means that there are information flows from the node vi\n",
    "to the node vj . The set of indices of neighbors of the node\n",
    "vi is Ni = {j : (vj, vi) \u0014 E}. The corresponding graph\n",
    "Laplacian matrix L \u0014 Rn×n is defined as\n",
    "L = [lij ], lij =\n",
    "\u001f\u001e",
    "\u001e",
    "\u001d",
    "\n",
    "\u001e",
    "\u001e",
    "\u001c",
    "\n",
    "−wij, j\u0014 Ni, \u001b\n",
    "k\u001c",
    "Ni\n",
    "wik, j= i,\n",
    "0, otherwise,\n",
    "\n",
    "$\\subset$"
   ]
  },
  {
   "cell_type": "code",
   "execution_count": null,
   "metadata": {},
   "outputs": [],
   "source": []
  },
  {
   "cell_type": "code",
   "execution_count": 1,
   "metadata": {
    "colab": {
     "background_save": true
    },
    "id": "HuTfPo3SueF6"
   },
   "outputs": [],
   "source": [
    "import networkx as nx\n",
    "\n",
    "import numpy as np\n",
    "from scipy.sparse import csgraph\n",
    "import scipy.signal as signal\n",
    "import scipy.linalg as la\n",
    "from scipy.optimize import minimize\n",
    "import matplotlib.pyplot as plt\n",
    "import math\n",
    "import time"
   ]
  },
  {
   "cell_type": "markdown",
   "metadata": {
    "id": "xjFjo8jZurF9"
   },
   "source": [
    "###**`Laplace_inDegree`**\n",
    "*   za graf G vraća Laplacian u željenoj formi."
   ]
  },
  {
   "cell_type": "code",
   "execution_count": 2,
   "metadata": {
    "colab": {
     "background_save": true
    },
    "id": "lAHSHiZ2usbq"
   },
   "outputs": [],
   "source": [
    "def _Laplace_inDegree(G):\n",
    "  A = nx.adjacency_matrix(G)\n",
    "  A = np.transpose(A)\n",
    "  D = np.diag(A @ np.ones(np.size(A,1)).transpose())\n",
    "  return D-A;"
   ]
  },
  {
   "cell_type": "markdown",
   "metadata": {
    "id": "V0Nvzj9tt4VF"
   },
   "source": [
    "##**`mu_`**\n",
    "* input: $\\alpha, \\beta, \\gamma$\n",
    "*output: funkcija ovisna o parametru $s$:  $$\\mu(s)=\\frac{is\\beta -s^2}{is \\alpha + \\gamma} $$"
   ]
  },
  {
   "cell_type": "code",
   "execution_count": 3,
   "metadata": {
    "colab": {
     "background_save": true
    },
    "id": "avZqYaJ9rZer",
    "tags": []
   },
   "outputs": [],
   "source": [
    "def mu_(alpha, beta, gamma):\n",
    "    def mu(s):\n",
    "        return (s*s-1j*s*beta)/(gamma + 1j*alpha*s);\n",
    "    return mu;"
   ]
  },
  {
   "cell_type": "markdown",
   "metadata": {
    "id": "v-2Yug73pBDQ"
   },
   "source": [
    "###**`get_Fi`**\n",
    "*   za graf $G$, parametre $\\alpha, \\beta, \\gamma$, računa $Schurovu$ dekompoziciju inDegree Laplaceove matrice grafa, vraća ugnježdenu funkciju koja prima komponentu $i$ i dimenziju jezgre Laplaceove matrice grafa.\n",
    "\n",
    "* pritom se kod računanja koristi `scipy.linalg.solve_triangular` koja poziva `LAPACK` rutinu za trokutasti linearni sustav jedndadžbi\n",
    "\n",
    "Primjer poziva:\n",
    "\n",
    "```\n",
    "sys_f, Kernel_dim, ndim = get_Fi(G,alpha,beta,gamma)\n",
    "Fi = sys_f(i)\n",
    "print(Fi(5))\n",
    "```\n",
    "\n",
    "\n"
   ]
  },
  {
   "cell_type": "markdown",
   "metadata": {},
   "source": [
    "##### Testni primjer:\n",
    "```python\n",
    "L = _Laplace_inDegree(G)\n",
    "ndim = np.shape(L)[0];\n",
    "T,Z,dim_Ker_L = la.schur(L, sort = lambda x: abs(x)<1e-12)\n",
    "print(np.shape(T),dim_Ker_L, np.shape(Z[dim_Ker_L:,3]))\n",
    "print(np.max(np.diag(T)))\n",
    "\n",
    "sys_f, Kernel_dim, ndim, L_sigma = get_Fi_norm(G)\n",
    "Fi = sys_f(2,1,1,1)\n",
    "print(Fi(5))\n",
    "```"
   ]
  },
  {
   "cell_type": "markdown",
   "metadata": {},
   "source": [
    "L = _Laplace_inDegree(G)\n",
    "ndim = np.shape(L)[0];\n",
    "T,Z,dim_Ker_L = la.schur(L, sort = lambda x: abs(x)<1e-12)\n",
    "print(np.shape(T),dim_Ker_L, np.shape(Z[dim_Ker_L:,3]))\n",
    "print(np.max(np.diag(T)))\n",
    "\n",
    "sys_f, Kernel_dim, ndim, L_sigma = get_Fi_norm(G)\n",
    "Fi = sys_f(2,1,1,1)\n",
    "print(Fi(5))"
   ]
  },
  {
   "cell_type": "code",
   "execution_count": 4,
   "metadata": {
    "colab": {
     "background_save": true
    },
    "id": "kpU13Ig8K_En"
   },
   "outputs": [],
   "source": [
    "def get_Fi_norm(G):\n",
    "    L = _Laplace_inDegree(G)\n",
    "    ndim = np.shape(L)[0];\n",
    "    T,Z,dim_Ker_L = la.schur(L, sort = lambda x: abs(x)<1e-12)\n",
    "    max_diagonal = np.max(np.abs(np.diag(T)))\n",
    "    print(\"- - - - - Računam Schurovu dekompoziciju\")\n",
    "    V = Z[:,dim_Ker_L:]\n",
    "    EYE = np.diag(np.ones(ndim - dim_Ker_L))\n",
    "    \n",
    "    def FF_(i,alpha,beta,gamma):\n",
    "        alpha_2 = alpha*alpha\n",
    "        gamma_2 = gamma*gamma\n",
    "        M = mu_(alpha,beta,gamma)\n",
    "        VTei = V.T.conj()[:,i-1]\n",
    "        Z_Tei = Z.T.conj()[dim_Ker_L:,i-1]\n",
    "        \n",
    "        def Fi(s):\n",
    "            if (s == 0):\n",
    "                #A = T[dim_Ker_L:,dim_Ker_L:] #uzmemo T_22\n",
    "                x = la.solve_triangular(T[dim_Ker_L:,dim_Ker_L:],VTei)  #solve_triangular poziva\n",
    "                #LAPACK rutinu za trokutasti sustav\n",
    "                nrm =la.norm(V @ x /gamma)\n",
    "                F = nrm\n",
    "            else:\n",
    "                x = la.solve_triangular(T[dim_Ker_L:,dim_Ker_L:] - EYE*M(s),Z_Tei)\n",
    "                F = la.norm(V @ x)/np.sqrt(s*s*alpha_2 + gamma_2)\n",
    "            return F;\n",
    "        return Fi;\n",
    "    return FF_, dim_Ker_L, ndim, max_diagonal;"
   ]
  },
  {
   "cell_type": "markdown",
   "metadata": {
    "id": "ISSoSslxumUI"
   },
   "source": [
    "#**Poziv nekog grafa G:**"
   ]
  },
  {
   "cell_type": "markdown",
   "metadata": {
    "id": "CfeObU_GZIeK"
   },
   "source": [
    "[Dokumentacija](https://networkx.org/documentation/stable/reference/generators.html#module-networkx.generators.directed) za generatore grafova.\n",
    "\n",
    "`gn_graph(n[, kernel, create_using, seed])` - Returns the growing network (GN) digraph with n nodes.\n",
    "\n",
    "`gnr_graph(n, p[, create_using, seed])` - Returns the growing network with redirection (GNR) digraph with n nodes and redirection probability p.\n",
    "\n",
    "`gnc_graph(n[, create_using, seed])` - Returns the growing network with copying (GNC) digraph with n nodes.\n",
    "\n",
    "`random_k_out_graph(n, k, alpha[, ...])` - Returns a random k-out graph with preferential attachment.\n",
    "\n",
    "`scale_free_graph(n)` - Returns a scale-free directed graph."
   ]
  },
  {
   "cell_type": "code",
   "execution_count": 5,
   "metadata": {},
   "outputs": [],
   "source": [
    "import random\n",
    "def scale_free_directed_graph(n, alpha=0.41, beta=0.54, gamma=0.05, delta_in=0.2, delta_out=0, seed=None):\n",
    "    G = nx.DiGraph()\n",
    "    G.add_node(0)\n",
    "\n",
    "    nodes = list(G.nodes())\n",
    "    cursor = 0\n",
    "    random.seed(seed)\n",
    "\n",
    "    while len(G) < n:\n",
    "        r = random.random()\n",
    "\n",
    "        if r < alpha:\n",
    "            v = cursor\n",
    "            cursor += 1\n",
    "            w = random.choice(nodes)\n",
    "\n",
    "        elif r < alpha + beta:\n",
    "            v = random.choice(nodes)\n",
    "            w = random.choice(nodes)\n",
    "\n",
    "        else:\n",
    "            v = random.choice(nodes)\n",
    "            w = cursor\n",
    "            cursor += 1\n",
    "\n",
    "        if v != w and not G.has_edge(v, w):\n",
    "            G.add_edge(v, w)\n",
    "\n",
    "        nodes = list(G.nodes())\n",
    "\n",
    "    return G"
   ]
  },
  {
   "cell_type": "markdown",
   "metadata": {},
   "source": [
    "TTT = generate_graphs(4)\n",
    "TTT[4][1]\n",
    "for G in TTT:\n",
    "    print(type(G[0]))\n",
    "    print(_Laplace_inDegree(G[0]))"
   ]
  },
  {
   "cell_type": "code",
   "execution_count": 6,
   "metadata": {
    "colab": {
     "background_save": true
    },
    "id": "f9TzjYTeUf1g"
   },
   "outputs": [],
   "source": [
    "def generate_graphs(n):\n",
    "    #A = nx.gnr_graph(n, 0.5)\n",
    "    #B = nx.gnc_graph(n)\n",
    "    C = nx.random_k_out_graph(n, 4, 50.0, self_loops=False, seed=None) \n",
    "    D = nx.random_k_out_graph(n, 4, 50.0, self_loops=False, seed=None) \n",
    "    #D = scale_free_directed_graph(n)\n",
    "    #E = nx.gn_graph(n)\n",
    "    #F = nx.gn_graph(n, kernel=lambda x: x ** 1.5)\n",
    "    #G = nx.gn_graph(n, kernel=lambda x: math.exp(x*1.4))\n",
    "    #A = scale_free_directed_graph(n)\n",
    "    #B = scale_free_directed_graph(n)\n",
    "    #E = scale_free_directed_graph(n)\n",
    "    #F = scale_free_directed_graph(n)\n",
    "    #G = scale_free_directed_graph(n)\n",
    "    A = nx.random_k_out_graph(n, 4, 50.0, self_loops=False, seed=None) \n",
    "    B = nx.random_k_out_graph(n, 4, 50.0, self_loops=False, seed=None) \n",
    "    E = nx.random_k_out_graph(n, 4, 50.0, self_loops=False, seed=None) \n",
    "    F= nx.random_k_out_graph(n, 4, 50.0, self_loops=False, seed=None) \n",
    "    G= nx.random_k_out_graph(n, 4, 50.0, self_loops=False, seed=None) \n",
    "        \n",
    "    #descriptionA = \"gnr_graph(\" + str(n) + \", 0.5)\"\n",
    "    #descriptionB = \"gnc_graph(\" + str(n) + \")\"\n",
    "    descriptionC = \"random_k_out_graph(\" + str(n) + \"4, 50.0, self_loops=False, seed=None)\"\n",
    "    #descriptionD = \"scale_free_directed_graph(\"+str(n)+\")\"\n",
    "    #descriptionE = \"gn_graph(\" + str(n) + \")\"\n",
    "    #descriptionF = \"gn_graph(\" + str(n) + \", kernel=lambda x: x ** 1.5)\"\n",
    "    #descriptionG = \"gn_graph(\" + str(n) + \", kernel=lambda x: math.exp(x*1.4))\"\n",
    "    \n",
    "    return [(A,descriptionC),(B,descriptionC),(C,descriptionC),(D,descriptionC),(E,descriptionC),(F,descriptionC),(G,descriptionC)]\n",
    "    #return [(A,descriptionD),(B,descriptionD),(C,descriptionC),(D,descriptionD),(E,descriptionD),(F,descriptionD),(G,descriptionD)]\n",
    "    #return [(A,descriptionA),(B,descriptionB),(C,descriptionC),(D,descriptionD),(E,descriptionE),(F,descriptionF),(G,descriptionG)]\n",
    "    #return [(C,descriptionC),(D,descriptionD)]\n",
    "    #return [(A,descriptionA),(C,descriptionC),(D,descriptionD),(E,descriptionE)]"
   ]
  },
  {
   "cell_type": "markdown",
   "metadata": {},
   "source": [
    "# Create a plot\n",
    "plt.figure()\n",
    "\n",
    "# Add text boxes\n",
    "text_box1 = plt.text(0.2, 0.8, 'Text Box 1', fontsize=12, bbox=dict(facecolor='white', edgecolor='black', boxstyle='round,pad=0.5'))\n",
    "text_box2 = plt.text(0.5, 0.5, 'Text Box 2', fontsize=12, bbox=dict(facecolor='white', edgecolor='black', boxstyle='round,pad=0.5'))\n",
    "text_box3 = plt.text(0.8, 0.2, 'Text Box 3', fontsize=12, bbox=dict(facecolor='white', edgecolor='black', boxstyle='round,pad=0.5'))\n",
    "\n",
    "# Customize the text boxes\n",
    "text_box1.set_verticalalignment('top')\n",
    "text_box2.set_horizontalalignment('center')\n",
    "text_box3.set_verticalalignment('bottom')\n",
    "\n",
    "# Show the plot\n",
    "plt.show()"
   ]
  },
  {
   "cell_type": "markdown",
   "metadata": {},
   "source": [
    "G,gamma,s_opt, s_range, vals, arg = CounterExamples_3[0]\n",
    "print(arg)\n",
    "#print(np.size(s_range))\n",
    "#print(len(vals))\n",
    "sys_f, Kernel_dim, ndim, L_sigma = get_Fi_norm(G)\n",
    "Fi = sys_f(0,1,1,gamma)\n",
    "plt.figure(figsize=(20,10))\n",
    "plt.plot()\n",
    "s_opt_index = np.where(s_range == s_opt)[0][0]\n",
    "s_opt_obj = vals[s_opt_index]\n",
    "plt.scatter(s_opt, s_opt_obj, color='red', label='s_opt')\n",
    "ind = s_opt_index+20\n",
    "plt.plot(s_range[:ind], vals[:ind], label = f\"i={i}\")\n",
    "\n",
    "plot_norm_function(G,gamma,s_opt, s_range, vals, arg)"
   ]
  },
  {
   "cell_type": "markdown",
   "metadata": {},
   "source": [
    "sys_f, Kernel_dim, ndim, L_sigma = get_Fi(G,alpha,beta,gamma)\n",
    "Fi = sys_f(i)\n",
    "print(Fi(5))\n",
    "\n",
    "    obj_values.append([Fi(s) for s in s_range])\n",
    "    \n",
    "x0 = 0.1\n",
    "left_end = 0\n",
    "right_end = L_sigma*5\n",
    "spacing = 0.001\n",
    "bounds = [(left_end,right_end)]\n",
    "s_range = np.arange(left_end,right_end, spacing)"
   ]
  },
  {
   "cell_type": "markdown",
   "metadata": {},
   "source": [
    "sys_f, Kernel_dim, ndim, L_sigma = get_Fi_norm(Graf)\n",
    "Fi = sys_f(indexi[0],alpha,beta,gamma)\n",
    "x0 = 0.1\n",
    "left_end = 0\n",
    "right_end = L_sigma*5\n",
    "spacing = 0.001\n",
    "bounds = [(left_end,right_end)]\n",
    "s_range = np.arange(left_end,right_end, spacing)\n",
    "plt.figure(figsize=(20,10))\n",
    "plt.plot()\n",
    "plt.scatter(optimal_s[0], obj_values[0][args[0]], color='red', label='s_opt')\n",
    "ind = indexi[0]*10\n",
    "plt.plot(s_range[:ind],[Fi(s) for s in s_range[:ind]], label = f\"i={indexi[0]}\")\n",
    "plt.xlabel('s')\n",
    "plt.ylabel('Max singular value')\n",
    "plt.yscale('log')\n",
    "plt.legend()\n",
    "titl = opis + \", gamma = \"+ str(gamma)\n",
    "plt.title(titl)\n",
    "plt.show()"
   ]
  },
  {
   "cell_type": "markdown",
   "metadata": {},
   "source": [
    "tup = (arg, 7, Graf)\n",
    "print(tup[0], tup[1], tup[2])"
   ]
  },
  {
   "cell_type": "markdown",
   "metadata": {},
   "source": [
    "Graf, opis,gamma,indexi,optimal_s, ranges, obj_values, args, poruka, norm_values = GGGG\n",
    "\n",
    "plot_norm_function(Graf, opis, gamma,indexi[0], optimal_s[0], ranges[0], obj_values[0], args[0])"
   ]
  },
  {
   "cell_type": "markdown",
   "metadata": {},
   "source": [
    "def plot_norm_function(G, naslov, gamma,i, s_opt, s_range, vals, arg):\n",
    "    #i =0\n",
    "    plt.figure(figsize=(20,10))\n",
    "    #for obj in obj_values:\n",
    "    print(np.size(s_range))\n",
    "    print(len(vals))\n",
    "    plt.plot()\n",
    "    s_opt_index = np.where(s_range == s_opt)[0][0]\n",
    "    print(s_opt_index)\n",
    "    s_opt_obj = vals[s_opt_index]\n",
    "    plt.scatter(s_opt, s_opt_obj, color='red', label='s_opt')\n",
    "    ind = s_opt_index+20\n",
    "    plt.plot(s_range[:ind], vals[:ind], label = f\"i={i}\")\n",
    "    i+=1;\n",
    "\n",
    "    plt.xlabel('s')\n",
    "    plt.ylabel('Max singular value')\n",
    "    plt.yscale('log')\n",
    "    plt.legend()\n",
    "    plt.title(naslov)\n",
    "    \n",
    "    #text_box1 = plt.text(0.2, 0.8, r'$\\gamma = {}$'.format(gamma), fontsize=12, bbox=dict(facecolor='white', edgecolor='black', boxstyle='round,pad=0.5'))\n",
    "\n",
    "    # Customize the text boxes\n",
    "    text_box1.set_verticalalignment('top')\n",
    "\n",
    "    plt.show()\n",
    "    #print(\"Dimenzija Laplaceove matrice: \",ndim,\"\\nDimenzija jezgre Laplaceove matrice: \",Kernel_dim)"
   ]
  },
  {
   "cell_type": "markdown",
   "metadata": {},
   "source": [
    "def plot_graph(G, norm_values):\n",
    "    plt.figure(figsize=(20,15))\n",
    "    pos = nx.spring_layout(Graph)\n",
    "\n",
    "    nodes = nx.draw_networkx_nodes(Graph, pos, node_color=norm_values, cmap='coolwarm', node_size=70)\n",
    "    edgclr = (224/255.0,229/255.0,255/255.0)\n",
    "    nx.draw_networkx_edges(Graph, pos,edge_color=edgclr)\n",
    "\n",
    "    #Odaberemo 10 vrhova s najvećom normom\n",
    "    largest_indices = np.argsort(norm_values)[-10:]\n",
    "    node_labels = {n: n for n in largest_indices}\n",
    "    #node_labels = {n:norm_values[n] for n in Graph.nodes()}\n",
    "    nx.draw_networkx_labels(Graph, pos, labels=node_labels, font_color='black', verticalalignment='bottom', horizontalalignment='left')\n",
    "    #nx.draw(Graph,pos, node_color = node_colors, cmap = 'coolwarm', node_size=100)# labels = node_labels)\n",
    "\n",
    "    # Odvojeni colorbar plot\n",
    "    cbar = plt.colorbar(nodes, label='Norm', orientation='horizontal', shrink=0.5)\n",
    "    cbar.ax.set_xlabel('Norm Values')\n",
    "    plt.subplots_adjust(bottom=0.2)  \n",
    "\n",
    "    plt.title('Graf D sa obojanim vrhovima po vrijednosti Norme')\n",
    "    plt.savefig('graph.png')  # Save the plot as a PNG file\n",
    "    plt.show()\n",
    "    print(\"Dimenzija Laplaceove matrice: \",ndim,\"\\nDimenzija jezgre Laplaceove matrice: \",Kernel_dim)\n",
    "    print(\"Vrijeme izvršavanja: \", end_time-start_time, \"sec\")"
   ]
  },
  {
   "cell_type": "markdown",
   "metadata": {
    "id": "LpwL-HexX1H9"
   },
   "source": [
    "## Naći max od $H_\\infty$: (npr. pomoću Nelder-Mead)\n",
    "\n",
    "Računanje $max_{\\omega \\in \\mathbb{R}} \\overline{\\sigma}(\\hat{F}(j\\omega))$"
   ]
  },
  {
   "cell_type": "markdown",
   "metadata": {
    "id": "ot5c7Sd5sOaI"
   },
   "source": [
    "Računamo normu od:\n",
    "\n",
    "$F_i(s) = VV^T \\Phi(s)^{-1}e_i$\n",
    "\n",
    "$F_i(0) = \\frac{1}{\\gamma}V (V^TLV)^{-1}V^Te_i$\n",
    "\n",
    "$||F_i(s)||^2_\\infty = sup_s||F_i(s)||^2_2 = sup_s ||VV^T \\Phi(s)^{-1}e_i||^2_2$"
   ]
  },
  {
   "cell_type": "markdown",
   "metadata": {
    "id": "iiRqLxAZRVsi"
   },
   "source": [
    "Ovdje koristimo funkciju koja vraća normu vektora $F_i(s)$ pa je funkcija cilja u optimizaciju norma tog vektora.\n",
    "\n",
    "U varijablu L_sigma spremimo najveću svojstvenu vrijednost."
   ]
  },
  {
   "cell_type": "code",
   "execution_count": null,
   "metadata": {},
   "outputs": [],
   "source": [
    "print(len(CounterExamples))\n",
    "CounterExamples = CounterExamples + CounterExamples_0\n",
    "print(len(CounterExamples))"
   ]
  },
  {
   "cell_type": "code",
   "execution_count": 37,
   "metadata": {},
   "outputs": [
    {
     "name": "stdout",
     "output_type": "stream",
     "text": [
      "138\n"
     ]
    }
   ],
   "source": [
    "print(len(CounterExamples_2))"
   ]
  },
  {
   "cell_type": "code",
   "execution_count": null,
   "metadata": {},
   "outputs": [],
   "source": [
    "def obj_fun(s):\n",
    "    return -Fi(s)\n",
    "\n",
    "# za svaki tip grafa želimo ga testirati na 1000 slučajno kreiranih grafova\n",
    "# cilj je za svaki graf provrtiti 10 različitih gamma\n",
    "\n",
    "#Ukupno ćemo imati 70 000 primjera\n",
    "# Odaberi broj vrhova:\n",
    "n = 500\n",
    "#Odaberi broj generiranja grupe grafova\n",
    "N = 4\n",
    "#- sadrži graf G i točku koju vraća Nelder-Mead - NM je zapeo u lokalnom ekstremu\n",
    "#CounterExamples_2 = [] # Nelder-Mead i argmax nisu jednaki - (G,s_opt) \n",
    "#CounterExamples_3= [] # Nelder-Mead daje isto kao i argmax - a nije u nuli\n",
    "\n",
    "alpha = 1\n",
    "beta = 1\n",
    "start_time = time.time()\n",
    "# N puta generirat ćemo grupu od 7 grafova\n",
    "for j in range(N):\n",
    "    \n",
    "    start_time_j = time.time()\n",
    "    print(\"\\n\",j+1,\"/-ta grupa grafova. Ukupno N = \", N,\".\")\n",
    "    \n",
    "    GRAPHS = generate_graphs(n)\n",
    "    \n",
    "    #za svaki graf tražimo gdje se postiže max\n",
    "    # u G se nalazi tupple: (Graf, opis grafa)\n",
    "    for G in GRAPHS:\n",
    "        start_time_Graph = time.time()\n",
    "        sys_f, Kernel_dim, ndim, L_sigma = get_Fi_norm(G[0])\n",
    "        print(\"\\nTip grafa: \",G[1])\n",
    "        print(\"- - - - - Najveća svojstvena vrijednost: \",L_sigma)\n",
    "        x0 = 0.1\n",
    "        left_end = 0\n",
    "        right_end = L_sigma*10\n",
    "        spacing0 = 0.001\n",
    "        spacing1 = 0.1\n",
    "        bounds = [(left_end,right_end)]\n",
    "        \n",
    "        # variramo parametar gamma\n",
    "        for k in range(1,11):\n",
    "            start_time_gamma = time.time()\n",
    "            gamma = k/10\n",
    "            now = time.time()\n",
    "            \n",
    "            obj_values = []\n",
    "            norm_values = []\n",
    "            optimal_s = []\n",
    "            norm0_values = []\n",
    "            ranges = []\n",
    "            indexi = []\n",
    "            args = []\n",
    "            not_in_list = True\n",
    "            \n",
    "            for i in range(ndim):\n",
    "                Fi = sys_f(i,alpha,beta,gamma)\n",
    "                res = minimize(obj_fun, x0, bounds=bounds, method='Nelder-Mead')\n",
    "                s_opt = res.x[0]\n",
    "                norm = -res.fun # spremi vrijednost maximuma\n",
    "                norm_values.append(norm) # iznosi normi iz Nelder-Meada\n",
    "                \n",
    "                if (s_opt == 0.0):\n",
    "                    s_range = np.arange(left_end,right_end, spacing1)\n",
    "                else:\n",
    "                    s_range = np.arange(left_end,s_opt, spacing0)\n",
    "                    s_range = np.concatenate((s_range, np.arange(s_opt,s_opt*5, spacing0 )))\n",
    "                    #s_range = np.concatenate((s_range, np.arange(s_opt*5,right_end, spacing1 )))\n",
    "                \n",
    "                vals = [Fi(s) for s in s_range]\n",
    "                maxi = max(vals)\n",
    "                arg = vals.index(maxi)\n",
    "                \n",
    "                #Što sve trebam spremiti?\n",
    "                #trebam spremiti\n",
    "                ### Graf za kojeg tvrdnja ne vrijedi\n",
    "                ### gamma\n",
    "                ### indeks i na kojem se max of Fi ne postiže u 0\n",
    "                ### s_opt različite od nula\n",
    "                ### s_range na kojem se ispituje max\n",
    "                ### arg u obj_val u kojem se postiže max\n",
    "                ### norm_values\n",
    "                ### poruka\n",
    "                \n",
    "                if (arg != 0) and not_in_list:\n",
    "                    not_in_list = False\n",
    "                    indexi.append(i)\n",
    "                    ranges.append(s_range)\n",
    "                    optimal_s.append(s_opt) # spremljena točka s za koju se postiže min\n",
    "                    #norm0_values.append(la.norm(Fi(0))) # iznosi norme u nuli.\n",
    "                    obj_values.append(vals) # spremljen graf of Fi duž domene s\n",
    "                    args.append(arg)\n",
    "                    #print(\"     Gamma =\",gamma)\n",
    "                    poruka = \"Nađen kontraprimjer. gamma = \" + str(gamma) + \\\n",
    "                             \"    (i, s_opt, s_range[arg], arg) = \" + str(i) + \\\n",
    "                             \",\" + str(s_opt) + \", \" + str(s_range[arg]) + \", \" + str(arg)\n",
    "                    #print(\"       \",poruka)  \n",
    "                elif (s_opt != s_range[arg]) and not_in_list:\n",
    "                    not_in_list = False\n",
    "                    indexi.append(i)\n",
    "                    ranges.append(s_range)\n",
    "                    optimal_s.append(s_opt) # spremljena točka s za koju se postiže min\n",
    "                    #norm0_values.append(la.norm(Fi(0))) # iznosi norme u nuli.\n",
    "                    obj_values.append(vals) # spremljen graf of Fi duž domene s\n",
    "                    args.append(arg)\n",
    "                    #print(\"     Gamma =\",gamma)\n",
    "                    poruka = \"Nađen kontraprimjer. Nelder-Mead zapeo u lok. ekstremu. gamma = \" + str(gamma) + \\\n",
    "                             \"    (i, s_opt, s_range[arg], arg) = \" + str(i) + \\\n",
    "                             \",\" + str(s_opt) + \", \" + str(s_range[arg]) + \", \" + str(arg)\n",
    "                    #print(\"       \",poruka)                   \n",
    "                    \n",
    "            if not not_in_list:\n",
    "                CounterExamples_2.append((G[0],G[1],gamma,indexi,optimal_s, ranges, obj_values, args, poruka, norm_values))\n",
    "                print(\"       \",poruka)\n",
    "            end_time_gamma = time.time()\n",
    "            #print(\"     Vrijeme za gamma =\",gamma,\": {:.4f} sec\".format(end_time_gamma - start_time_gamma))\n",
    "                          \n",
    "        end_time_Graph = time.time()\n",
    "        print(\"- - - - - Vrijeme izvršavanja za jedan graf: {:.4f} sec\".format(end_time_Graph - start_time_Graph))\n",
    "    \n",
    "    end_time_j = time.time()\n",
    "    print(\" Vrijeme izvršavanja \",j,\"-te iteracije: {:.4f} sec\\n\".format(end_time_j - start_time_j))\n",
    "end_time = time.time()\n",
    "print(\"Ukupno vrijeme izvršavanja: {:.4f} sec\\n\".format(end_time - start_time))"
   ]
  },
  {
   "cell_type": "markdown",
   "metadata": {},
   "source": [
    "# GGGG = (G,gamma,indexi,optimal_s, ranges, obj_values, args, poruka, norm_values)\n",
    "# G = (Graf,opis)\n",
    "indexi\n",
    "GGGG = CounterExamples_0[0]\n",
    "print(GGGG[2])"
   ]
  },
  {
   "cell_type": "markdown",
   "metadata": {},
   "source": [
    "\n",
    "print(len(CounterExamples_0))\n",
    "print(CounterExamples_0[2][2][0])\n",
    "Tup,gamma,indexi,optimal_s, ranges, obj_values, args, poruka, norm_values = CounterExamples_0[2]\n",
    "print(indexi[0])"
   ]
  },
  {
   "cell_type": "markdown",
   "metadata": {},
   "source": [
    "Graf, opis,gamma,indexi,optimal_s, ranges, obj_values, args, poruka, norm_values = CounterExamples_0[50]\n",
    "i = 0\n",
    "filename = f\"{opis}_{i+1:02d}.gexf\"\n",
    "nx.write_gexf(Graf, filename)"
   ]
  },
  {
   "cell_type": "markdown",
   "metadata": {},
   "source": [
    "#Graf, opis,gamma,indexi,optimal_s, ranges, obj_values, args, poruka, norm_values\n",
    "# (G[0],G[1],gamma,indexi,optimal_s, ranges, obj_values, args, poruka, norm_values))\n",
    "# GGGG = (G,gamma,indexi,optimal_s, ranges, obj_values, args, poruka, norm_values)\n",
    "import json\n",
    "\n",
    "print(\"Gotov test za n = 60\")\n",
    "print(len(CounterExamples_0))\n",
    "j = 0;\n",
    "for i in CounterExamples_0:\n",
    "    if isinstance(i[0], tuple):\n",
    "        Tup,gamma,indexi,optimal_s, ranges, obj_values, args, poruka, norm_values = i\n",
    "        Graf = Tup[0]\n",
    "        opis = Tup[1]\n",
    "        filename = f\"{j+1:02d}_gamma={gamma}_i={indexi[0]}_{opis}.gexf\"\n",
    "        nx.write_gexf(Graf, filename)\n",
    "        #Tup1 = (opis,gamma,indexi,optimal_s, ranges, obj_values, args, poruka, norm_values)\n",
    "        #filename = f\"{opis}_{j+1:02d}.json\"\n",
    "        #with open(filename, \"w\") as file:\n",
    "        #    json.dump(Tup1, file)            \n",
    "        j = j+1\n",
    "    else:\n",
    "        Graf, opis,gamma,indexi,optimal_s, ranges, obj_values, args, poruka, norm_values = i\n",
    "        filename = f\"{j+1:02d}_gamma={gamma}_i={indexi[0]}_{opis}.gexf\"\n",
    "        nx.write_gexf(Graf, filename)\n",
    "        #Tup1 = (opis,gamma,indexi,optimal_s, ranges, obj_values, args, poruka, norm_values)\n",
    "        #filename = f\"{opis}_{j+1:02d}.json\"\n",
    "        #with open(filename, \"w\") as file:\n",
    "        #    json.dump(Tup1, file)            \n",
    "        j = j+1"
   ]
  },
  {
   "cell_type": "code",
   "execution_count": 42,
   "metadata": {},
   "outputs": [
    {
     "name": "stdout",
     "output_type": "stream",
     "text": [
      "0    gamma= 1.0 ; tip: scale_free_directed_graph(10)\n",
      "1    gamma= 1.0 ; tip: scale_free_directed_graph(10)\n",
      "2    gamma= 1.0 ; tip: gn_graph(10)\n",
      "3    gamma= 1.0 ; tip: scale_free_directed_graph(10)\n",
      "4    gamma= 1.0 ; tip: scale_free_directed_graph(10)\n",
      "5    gamma= 1.0 ; tip: scale_free_directed_graph(10)\n",
      "6    gamma= 1.0 ; tip: scale_free_directed_graph(10)\n",
      "7    gamma= 1.0 ; tip: scale_free_directed_graph(5)\n",
      "8    gamma= 1.0 ; tip: gn_graph(5)\n",
      "9    gamma= 1.0 ; tip: scale_free_directed_graph(5)\n",
      "10    gamma= 1.0 ; tip: scale_free_directed_graph(8)\n",
      "11    gamma= 1.0 ; tip: scale_free_directed_graph(8)\n",
      "12    gamma= 1.0 ; tip: scale_free_directed_graph(8)\n",
      "13    gamma= 1.0 ; tip: scale_free_directed_graph(8)\n",
      "14    gamma= 1.0 ; tip: scale_free_directed_graph(8)\n",
      "15    gamma= 1.0 ; tip: scale_free_directed_graph(8)\n",
      "16    gamma= 1.0 ; tip: scale_free_directed_graph(8)\n",
      "17    gamma= 1.0 ; tip: scale_free_directed_graph(8)\n",
      "18    gamma= 1.0 ; tip: scale_free_directed_graph(8)\n",
      "19    gamma= 1.0 ; tip: scale_free_directed_graph(8)\n",
      "20    gamma= 1.0 ; tip: gn_graph(8)\n",
      "21    gamma= 1.0 ; tip: scale_free_directed_graph(8)\n",
      "22    gamma= 1.0 ; tip: scale_free_directed_graph(8)\n",
      "23    gamma= 1.0 ; tip: scale_free_directed_graph(5)\n",
      "24    gamma= 1.0 ; tip: gnr_graph(5, 0.5)\n",
      "25    gamma= 1.0 ; tip: gn_graph(5)\n",
      "26    gamma= 1.0 ; tip: scale_free_directed_graph(5)\n",
      "27    gamma= 1.0 ; tip: scale_free_directed_graph(5)\n"
     ]
    }
   ],
   "source": [
    "j = 0;\n",
    "for i in CounterExamples_2:\n",
    "    #print(\"   gamma=\",i[2],\" tip: \", i[1])\n",
    "    #print(type(i[1]))\n",
    "    if (i[2] == 1.0):\n",
    "        Graf, opis,gamma,indexi,optimal_s, ranges, obj_values, args, poruka, norm_values = i\n",
    "        filename = f\"{j+1:02d}_gamma={gamma}_i={indexi[0]}_{opis}.gexf\"\n",
    "        nx.write_gexf(Graf, filename)\n",
    "        print(j,\"   gamma=\",i[2],\"; tip:\", i[1])\n",
    "        j = j+1"
   ]
  },
  {
   "cell_type": "markdown",
   "metadata": {},
   "source": [
    "##### Testno:\n",
    "```python\n",
    "s_range = np.arange(0,0.578, 0.1)\n",
    "s_range = np.concatenate((s_range, np.arange(0.578,2, 0.1)))\n",
    "#s_ran_1 = np.arange(0.578,2, 0.1)\n",
    "print(s_range)\n",
    "```"
   ]
  },
  {
   "cell_type": "markdown",
   "metadata": {
    "colab": {
     "background_save": true,
     "base_uri": "https://localhost:8080/"
    },
    "id": "1hEz5bcJRVsj",
    "outputId": "c635ea68-9679-4ab9-c52d-fb5efe19b15e"
   },
   "source": [
    "alpha=1\n",
    "beta=1\n",
    "\n",
    "for t in range(1):\n",
    "    gamma=CounterExamples_1[t][2]\n",
    "    opt = CounterExamples_1[t][1]\n",
    "    Graph = CounterExamples_1[t][0]\n",
    "    start_time = time.time()\n",
    "    sys_f, Kernel_dim, ndim, L_sigma = get_Fi_norm(Graph)\n",
    "    print(\"Trajanje Schurove dekompozicije:\", time.time()-start_time)\n",
    "\n",
    "    x0 = 0.1\n",
    "    left_end = 0\n",
    "    right_end = L_sigma*10\n",
    "    spacing = 0.001\n",
    "    bounds = [(left_end,right_end)]\n",
    "    \n",
    "    s_range_values = []\n",
    "    obj_values = []\n",
    "    norm_values = []\n",
    "    norm0_values = []\n",
    "    for i in range(ndim):\n",
    "        now = time.time()\n",
    "        Fi = sys_f(i,alpha,beta,gamma)\n",
    "        res = minimize(obj_fun, x0, bounds=bounds, method='Nelder-Mead')\n",
    "        #print(res)\n",
    "        s_opt = res.x[0] # spremljena točka s za koju se postiže min\n",
    "        norm = -res.fun # spremi vrijednost maximuma\n",
    "        norm_values.append(norm) # iznosi normi iz Nelder-Meada\n",
    "        \n",
    "        s_range = np.arange(left_end,s_opt, spacing0)\n",
    "        s_range = np.concatenate((s_range, np.arange(s_opt,s_opt*5, spacing0 )))\n",
    "        s_range = np.concatenate((s_range, np.arange(s_opt*5,right_end, spacing1 )))\n",
    "                \n",
    "\n",
    "        norm_0 = la.norm(Fi(0)) # spremi vrijednost u nula\n",
    "        norm0_values.append(norm_0) # iznosi norme u nuli.\n",
    "\n",
    "        vals = [la.norm(Fi(s)) for s in s_range]\n",
    "        maxi = max(vals)\n",
    "        arg = vals.index(maxi)\n",
    "        obj_values.append(vals) # spremljen graf of Fi duž domene s\n",
    "\n",
    "        #\n",
    "        # if s_opt != 0 then spremi graf i sve šta treba\n",
    "        #   provjeri je li u obj_values max u istoj točki\n",
    "        #\n",
    "        if  (s_opt != arg):# or (opt != s_opt): #(opt != arg) or\n",
    "            print(i, \"      \",opt, s_opt, arg)\n",
    "\n",
    "        #print(\"  Trajanje \",i,\"-te iteracije:\", time.time()-now)\n",
    "    end_time = time.time()\n",
    "    #print(\"Vrijeme izvršavanja: \", end_time-start_time, \"sec\")"
   ]
  },
  {
   "cell_type": "markdown",
   "metadata": {},
   "source": [
    "vals = obj[:50]\n",
    "maxi = max(vals)\n",
    "arg = vals.index(maxi)\n",
    "print(arg, maxi)"
   ]
  },
  {
   "cell_type": "markdown",
   "metadata": {},
   "source": [
    "i =0\n",
    "plt.figure(figsize=(20,10))\n",
    "start_time = time.time()\n",
    "#for obj in obj_values:\n",
    "#    plt.plot()\n",
    "#    plt.plot(s_range, obj, label = f\"i={i}\")\n",
    "#    i+=1;\n",
    "\n",
    "plt.plot()\n",
    "plt.plot(s_range[:50], obj[:50], label = f\"i={i}\")\n",
    "\n",
    "end_time = time.time()\n",
    "plt.xlabel('s')\n",
    "plt.ylabel('Max singular value')\n",
    "plt.yscale('log')\n",
    "plt.legend()\n",
    "#text_box1 = plt.text(0.2, 0.8, 'Text Box 1', fontsize=12, bbox=dict(facecolor='white', edgecolor='black', boxstyle='round,pad=0.5'))\n",
    "#text_box2 = plt.text(0.5, 0.5, 'Text Box 2', fontsize=12, bbox=dict(facecolor='white', edgecolor='green', boxstyle='round,pad=0.5'))\n",
    "#text_box3 = plt.text(0.8, 0.2, 'Text Box 3', fontsize=12, bbox=dict(facecolor='white', edgecolor='black', boxstyle='round,pad=0.5'))\n",
    "plt.scatter(0.015078125000000166, norm_values[0], color='red', label='Optimal Point')\n",
    "# Customize the text boxes\n",
    "#text_box1.set_verticalalignment('top')\n",
    "#text_box2.set_horizontalalignment('center')\n",
    "#text_box3.set_verticalalignment('bottom')\n",
    "\n",
    "plt.show()\n",
    "print(\"Dimenzija Laplaceove matrice: \",ndim,\"\\nDimenzija jezgre Laplaceove matrice: \", Kernel_dim)"
   ]
  },
  {
   "cell_type": "markdown",
   "metadata": {
    "colab": {
     "base_uri": "https://localhost:8080/",
     "height": 763
    },
    "id": "eSwGHRTXCC1l",
    "outputId": "da40c002-fa15-4807-9fd2-8ec37bb909ee"
   },
   "source": [
    "# Plotanje grafa\n",
    "plt.figure(figsize=(20,15))\n",
    "pos = nx.spring_layout(Graph)\n",
    "\n",
    "nodes = nx.draw_networkx_nodes(Graph, pos, node_color=norm_values, cmap='coolwarm', node_size=70)\n",
    "edgclr = (224/255.0,229/255.0,255/255.0)\n",
    "nx.draw_networkx_edges(Graph, pos,edge_color=edgclr)\n",
    "\n",
    "#Odaberemo 10 vrhova s najvećom normom\n",
    "largest_indices = np.argsort(norm_values)[-10:]\n",
    "node_labels = {n: n for n in largest_indices}\n",
    "#node_labels = {n:norm_values[n] for n in Graph.nodes()}\n",
    "nx.draw_networkx_labels(Graph, pos, labels=node_labels, font_color='black', verticalalignment='bottom', horizontalalignment='left')\n",
    "#nx.draw(Graph,pos, node_color = node_colors, cmap = 'coolwarm', node_size=100)# labels = node_labels)\n",
    "\n",
    "# Odvojeni colorbar plot\n",
    "cbar = plt.colorbar(nodes, label='Norm', orientation='horizontal', shrink=0.5)\n",
    "cbar.ax.set_xlabel('Norm Values')\n",
    "plt.subplots_adjust(bottom=0.2)  \n",
    "\n",
    "plt.title('Graf D sa obojanim vrhovima po vrijednosti Norme')\n",
    "plt.savefig('graph.png')  # Save the plot as a PNG file\n",
    "plt.show()\n",
    "print(\"Dimenzija Laplaceove matrice: \",ndim,\"\\nDimenzija jezgre Laplaceove matrice: \",Kernel_dim)\n",
    "print(\"Vrijeme izvršavanja: \", end_time-start_time, \"sec\")"
   ]
  },
  {
   "cell_type": "markdown",
   "metadata": {
    "id": "TR8fVAEpRBJw"
   },
   "source": [
    "Ovdje koristimo funkciju koja vraća normu vektora $||F_i(s)||$."
   ]
  },
  {
   "cell_type": "markdown",
   "metadata": {
    "colab": {
     "base_uri": "https://localhost:8080/"
    },
    "id": "f6if8fHYPV6-",
    "outputId": "ff553f2b-68f6-47a9-afad-709dee1ad5fe"
   },
   "source": [
    "#def obj_fun(s):\n",
    " #   return -Fi(s)\n",
    "Graph,gamma,s_opt0, s_range0, vals0, arg0 = CounterExamples_3[0]\n",
    "sys_f, Kernel_dim, ndim, L_sigma = get_Fi_norm(Graph)#,alpha,beta,gamma)\n",
    "    \n",
    "alpha=1\n",
    "beta=1\n",
    "\n",
    "x0 = 0.1\n",
    "left_end = 0\n",
    "right_end = s_opt0*5\n",
    "spacing = 0.001\n",
    "bounds = [(left_end,right_end)]\n",
    "s_range = np.arange(left_end,right_end, spacing)\n",
    "\n",
    "obj_values = []\n",
    "norm_values = []\n",
    "norm0_values = []\n",
    "start_time = time.time()\n",
    "print(\"Trajanje Schurove dekompozicije:\", time.time()-start_time)\n",
    "for i in range(ndim):\n",
    "    now = time.time()\n",
    "    Fi = sys_f(i,alpha,beta,gamma)\n",
    "    res = minimize(Fi, x0, bounds=bounds, method='Nelder-Mead')\n",
    "    #print(res)\n",
    "    s_opt = res.x[0]\n",
    "    norm = -res.fun\n",
    "    norm_0 = Fi(0)\n",
    "    #print(res.x, norm, \"0\",norm_0)\n",
    "    #print(res.x, norm, \"0\",norm_0)\n",
    "    obj_values.append([Fi(s) for s in s_range])\n",
    "    norm_values.append(norm)\n",
    "    norm0_values.append(norm_0)\n",
    "    print(\"Trajanje \",i,\"-te iteracije:\", time.time()-now)\n",
    "end_time = time.time()\n",
    "print(\"Vrijeme izvršavanja: \", end_time-start_time, \"sec\")"
   ]
  },
  {
   "cell_type": "markdown",
   "metadata": {
    "colab": {
     "base_uri": "https://localhost:8080/",
     "height": 1000
    },
    "id": "4qmrTN8J_74O",
    "outputId": "389cf272-b435-4180-cc4b-db7390a5286a"
   },
   "source": [
    "i =0\n",
    "plt.figure(figsize=(20,80))\n",
    "start_time = time.time()\n",
    "for obj in obj_values:\n",
    "    plt.plot()\n",
    "    plt.plot(s_range[:150], obj[:150], label = f\"i={i}\")\n",
    "    #plt.annotate(f\"i={i}\", (s_range[-1], obj[-1]), xytext=(10, 0), textcoords='offset points', fontsize=10)\n",
    "    i+=1;\n",
    "    #break\n",
    "\n",
    "end_time = time.time()\n",
    "plt.xlabel('s')\n",
    "plt.ylabel('Max singular value')\n",
    "plt.yscale('log')\n",
    "plt.legend()\n",
    "plt.show()\n",
    "print(\"Dimenzija Laplaceove matrice: \",ndim,\"\\nDimenzija jezgre Laplaceove matrice: \",Kernel_dim)\n",
    "print(\"Vrijeme izvršavanja: \", end_time-start_time, \"sec\")"
   ]
  },
  {
   "cell_type": "markdown",
   "metadata": {
    "colab": {
     "base_uri": "https://localhost:8080/",
     "height": 763
    },
    "id": "ibFWsuMNACOj",
    "outputId": "43c9256b-14de-4a57-b294-900378cab3cf"
   },
   "source": [
    "# Plotanje grafa\n",
    "plt.figure(figsize=(16,10))\n",
    "pos = nx.spring_layout(Graph)\n",
    "#node_labels = {n:norm_values[n] for n in Graph.nodes()}\n",
    "#nx.draw(Graph,pos, node_color = node_colors, cmap = 'coolwarm', node_size=100)# labels = node_labels)\n",
    "#plt.colorbar(label = 'Norm')\n",
    "nodes = nx.draw_networkx_nodes(Graph, pos, node_color=norm_values, cmap='coolwarm', node_size=70)\n",
    "edgclr = (224/255.0,229/255.0,255/255.0)\n",
    "nx.draw_networkx_edges(Graph, pos,edge_color=edgclr)\n",
    "\n",
    "#Odaberemo 10 vrhova s najvećom normom\n",
    "largest_indices = np.argsort(norm_values)[-10:]\n",
    "node_labels = {n: n for n in largest_indices}\n",
    "nx.draw_networkx_labels(Graph, pos, labels=node_labels, font_color='black', verticalalignment='bottom', horizontalalignment='left')\n",
    "\n",
    "# Odvojeni colorbar plot\n",
    "cbar = plt.colorbar(nodes, label='Norm', orientation='horizontal', shrink=0.5)\n",
    "cbar.ax.set_xlabel('Norm Values')\n",
    "plt.subplots_adjust(bottom=0.2)  \n",
    "\n",
    "plt.title('Graf D sa obojanim vrhovima po vrijednosti Norme')\n",
    "plt.show()\n",
    "print(\"Dimenzija Laplaceove matrice: \",ndim,\"\\nDimenzija jezgre Laplaceove matrice: \",Kernel_dim)\n",
    "print(\"Vrijeme izvršavanja: \", end_time-start_time, \"sec\")"
   ]
  },
  {
   "cell_type": "code",
   "execution_count": 7,
   "metadata": {},
   "outputs": [],
   "source": [
    "def get_reaches(G):\n",
    "    reaches = []\n",
    "    visited = set()\n",
    "    V = set(G.nodes())\n",
    "\n",
    "    for node in V:\n",
    "        if node not in visited:\n",
    "            reach_set = set(nx.descendants(G, node)).union({node})\n",
    "            visited.update(reach_set)\n",
    "            reaches.append(reach_set)\n",
    "\n",
    "    return reaches"
   ]
  },
  {
   "cell_type": "code",
   "execution_count": 8,
   "metadata": {},
   "outputs": [
    {
     "name": "stdout",
     "output_type": "stream",
     "text": [
      "[{1, 2, 6, 7}, {3, 4, 5, 6, 7}]\n"
     ]
    }
   ],
   "source": [
    "G = nx.DiGraph()\n",
    "G.add_edges_from([(1, 2), (1, 6), (6, 7), (7, 6), (3, 7), (3, 4), (4, 5), (5, 3)])\n",
    "\n",
    "reaches = get_reaches(G)\n",
    "print(reaches)"
   ]
  },
  {
   "cell_type": "code",
   "execution_count": 10,
   "metadata": {},
   "outputs": [],
   "source": [
    "def get_cabal_from_reach(G, reach):\n",
    "    cabal = set()\n",
    "    for node in reach:\n",
    "        is_cabal = True\n",
    "        ancestors = set(nx.ancestors(G, node))\n",
    "        for ancestor in ancestors:\n",
    "            if ancestor not in reach:\n",
    "                is_cabal = False\n",
    "                break\n",
    "        if is_cabal:\n",
    "            cabal.add(node)\n",
    "    return cabal"
   ]
  },
  {
   "cell_type": "code",
   "execution_count": 11,
   "metadata": {},
   "outputs": [],
   "source": [
    "def get_cabals(G):\n",
    "    reaches = get_reaches(G)\n",
    "    cabals = []\n",
    "\n",
    "    for reach in reaches:\n",
    "        cabal = set()\n",
    "        for node in reach:\n",
    "            is_cabal = True\n",
    "            ancestors = set(nx.ancestors(G, node))\n",
    "            for ancestor in ancestors:\n",
    "                if ancestor not in reach:\n",
    "                    is_cabal = False\n",
    "                    break\n",
    "            if is_cabal:\n",
    "                cabal.add(node)\n",
    "        cabals.append(cabal)\n",
    "\n",
    "    return cabals\n"
   ]
  },
  {
   "cell_type": "code",
   "execution_count": 12,
   "metadata": {},
   "outputs": [],
   "source": [
    "def get_common_part_from_reach(G, reach):\n",
    "    common_part = set()\n",
    "    all_reaches = get_reaches(G)\n",
    "\n",
    "    for node in reach:\n",
    "        sees_other_reach = False\n",
    "        for other_reach in all_reaches:\n",
    "            if other_reach != reach:\n",
    "                if node in other_reach:\n",
    "                    sees_other_reach = True\n",
    "                    break\n",
    "        if sees_other_reach:\n",
    "            common_part.add(node)\n",
    "\n",
    "    return common_part"
   ]
  },
  {
   "cell_type": "code",
   "execution_count": 13,
   "metadata": {},
   "outputs": [],
   "source": [
    "def get_exclusive_part_from_reach(G, reach):\n",
    "    exclusive_part = set()\n",
    "    all_reaches = get_reaches(G)\n",
    "\n",
    "    for node in reach:\n",
    "        sees_other_reach = False\n",
    "        for other_reach in all_reaches:\n",
    "            if other_reach != reach and node in other_reach:\n",
    "                sees_other_reach = True\n",
    "                break\n",
    "        if not sees_other_reach:\n",
    "            exclusive_part.add(node)\n",
    "\n",
    "    return exclusive_part"
   ]
  },
  {
   "cell_type": "code",
   "execution_count": null,
   "metadata": {},
   "outputs": [],
   "source": []
  }
 ],
 "metadata": {
  "colab": {
   "provenance": []
  },
  "kernelspec": {
   "display_name": "Python 3 (ipykernel)",
   "language": "python",
   "name": "python3"
  },
  "language_info": {
   "codemirror_mode": {
    "name": "ipython",
    "version": 3
   },
   "file_extension": ".py",
   "mimetype": "text/x-python",
   "name": "python",
   "nbconvert_exporter": "python",
   "pygments_lexer": "ipython3",
   "version": "3.11.0"
  }
 },
 "nbformat": 4,
 "nbformat_minor": 4
}
